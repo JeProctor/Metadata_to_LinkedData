{
 "cells": [
  {
   "cell_type": "code",
   "execution_count": 29,
   "id": "18ea3283",
   "metadata": {},
   "outputs": [],
   "source": [
    "import pandas as pd\n",
    "import re\n",
    "import rdflib\n"
   ]
  },
  {
   "cell_type": "code",
   "execution_count": 30,
   "id": "0a15364e",
   "metadata": {},
   "outputs": [],
   "source": [
    "##Enter the collection name formulated to also be a name for the linked data spreadsheet\n",
    "collection = 'Spelman_Linked_Data'\n",
    "##Read in your metadata csv file\n",
    "meta = pd.read_csv(\"SpelmanSubset.csv\",skiprows=1, header=None)\n",
    "##List your column data types\n",
    "headers=[\"ID\", \"Title\", \"Date\", \"Description\", \"LCSH\", \"Geoname\", \"Taken at\"]\n",
    "#Enter the number for the column containing item ID data (Start counting at zero)\n",
    "idcol=0\n",
    "#Enter the number for the column containing item date data (Start counting at zero)\n",
    "datecol=2\n",
    "#Enter the number for the column containing item titles (Start counting at zero)\n",
    "titles=1\n",
    "#Enter the number for the column containing item description (Start counting at zero)\n",
    "desc=1\n",
    "#Enter the number for the column containing location data (name) (Start counting at zero)\n",
    "place=6\n",
    "\n",
    "triples=[]\n",
    "desc_list=[]\n",
    "t_list=[]\n",
    "for item,line in meta.iterrows():\n",
    "    datedata = line[datecol]\n",
    "    #customize regex as needed to locate the item ID cell in each row\n",
    "    itemid = line[0]\n",
    "    row=meta.loc[item, :].values.flatten().tolist()\n",
    "    row = ''.join(str(row))\n",
    "    clearid=\"\\'\"+str(itemid)+\"\\', \"\n",
    "    row = re.sub(clearid, \"\", row)\n",
    "    #Adjust here depending on how your subject tags are divided\n",
    "    row = re.sub(r\"\\<br\\/\\>\", \"\\', \\'\", row)\n",
    "    #Any additional cleaning and standardization can be done here\n",
    "    row = re.sub(\"\\/\\S*\\s\",\" \", row)\n",
    "    row = re.sub(\"``\",\"\\\"\", row)\n",
    "    row = re.sub(\"\\'\\'\",\"\\\"\", row)\n",
    "    row = re.sub(\"\\/\\'\\'\", \"\", row)\n",
    "    desc_list=row.split(\"\\', \\'\")\n",
    "\n",
    "    for term in desc_list:\n",
    "        term = re.sub('\"',\"\",term)\n",
    "        idnum = row[idcol]\n",
    "    if re.finditer(\"\\s\", idnum) is True:\n",
    "        re.sub(\"\\s\", \"_\", idnum)\n",
    "    triples.append([idnum,\"http://www.w3.org/2008/05/skos#Collection\", collection])\n",
    "    idtitle = row[titles]\n",
    "    if re.finditer(\"\\s\", idtitle) is True:\n",
    "        re.sub(\"\\s\", \"_\", idtitle)\n",
    "    triples.append([idtitle, \"http://www.w3.org/2008/05/skos#Collection\", collection])\n",
    "    triples.append([idnum, \"http://www.w3.org/2008/05/skos#exactMatch\", idtitle])\n",
    "    triples.append([idnum, \"http://www.w3.org/2008/05/skos#exactMatch\", row[place]])\n",
    "    triples.append([desc, \"http://purl.org/dc/elements/1.1/description\", idnum])\n",
    "    listlength=len(desc_list)\n",
    "    listlength-=1\n",
    "    while listlength>0:\n",
    "        t_list=[itemid, \"contains\", desc_list[listlength].strip()]\n",
    "        listlength-=1\n",
    "        triples.append(t_list)\n",
    "        t_list = [itemid, \"http://purl.org/dc/terms/date\", datedata]\n",
    "        triples.append(t_list)\n",
    "\n"
   ]
  },
  {
   "cell_type": "code",
   "execution_count": 31,
   "id": "26ead128",
   "metadata": {},
   "outputs": [],
   "source": [
    "#Import boxes.csv(generated)\n",
    "persons = pd.read_csv(\"autodrawboxes.csv\",skiprows=1, header=None)\n",
    "##Set the first unique ID number to use for those depicted within the image collection\n",
    "counter=10001\n",
    "for index,row in persons.iterrows():\n",
    "    p_list = []\n",
    "    itemid = re.match(r\"3A(.*?),\", str(row))\n",
    "    p_list = [itemid, \"http://xmlns.com/foaf/0.1/depicts\", counter]\n",
    "    triples.append(p_list)\n",
    "    counter+=1"
   ]
  },
  {
   "cell_type": "code",
   "execution_count": 28,
   "id": "c8a3e48f",
   "metadata": {},
   "outputs": [],
   "source": [
    "#Import list of people named in item descriptions in csv format with a column for the itemid and a column for names (if had)\n",
    "#names = pd.read_csv(\"names.csv\",skiprows=1, header=None)\n",
    "#for index,row in names.iterrows():\n",
    "#    p_list = []\n",
    "#    itemid = re.match(r\"3A(.*?),\", str(row))\n",
    "#    p_list = [itemid, \"http://xmlns.com/foaf/0.1/depicts\", row[1]]\n",
    "#    triples.append(p_list)"
   ]
  },
  {
   "cell_type": "code",
   "execution_count": 26,
   "id": "73fa79f4",
   "metadata": {},
   "outputs": [],
   "source": [
    "#where exact person's name is known, import list of people named in item descriptions in csv format with a column for the itemid and a column for personid match (if had)\n",
    "#names = pd.read_csv(\"names.csv\",skiprows=1, header=None)\n",
    "#for index,row in names.iterrows():\n",
    "#    p_list = []\n",
    "#    itemid = re.match(r\"3A(.*?),\", str(row))\n",
    "#    p_list =([row[0], \"http://www.w3.org/2008/05/skos#exactMatch\", row[1])\n",
    "#    triples.append(p_list)"
   ]
  },
  {
   "cell_type": "code",
   "execution_count": null,
   "id": "ad5fd42f",
   "metadata": {},
   "outputs": [],
   "source": [
    "df = pd.DataFrame(triples, columns = ['Subject', 'Predicate', 'Object'])\n",
    "df.to_csv(str(collection)+'tripleslist.csv', index=False)"
   ]
  },
  {
   "cell_type": "code",
   "execution_count": null,
   "id": "76ad55cd",
   "metadata": {},
   "outputs": [],
   "source": []
  }
 ],
 "metadata": {
  "kernelspec": {
   "display_name": "Python 3 (ipykernel)",
   "language": "python",
   "name": "python3"
  },
  "language_info": {
   "codemirror_mode": {
    "name": "ipython",
    "version": 3
   },
   "file_extension": ".py",
   "mimetype": "text/x-python",
   "name": "python",
   "nbconvert_exporter": "python",
   "pygments_lexer": "ipython3",
   "version": "3.10.6"
  }
 },
 "nbformat": 4,
 "nbformat_minor": 5
}
